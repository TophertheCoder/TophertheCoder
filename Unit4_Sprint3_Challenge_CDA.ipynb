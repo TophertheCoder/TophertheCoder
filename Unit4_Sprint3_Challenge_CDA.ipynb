{
  "cells": [
    {
      "cell_type": "markdown",
      "metadata": {
        "id": "view-in-github",
        "colab_type": "text"
      },
      "source": [
        "<a href=\"https://colab.research.google.com/github/TophertheCoder/TophertheCoder/blob/main/Unit4_Sprint3_Challenge_CDA.ipynb\" target=\"_parent\"><img src=\"https://colab.research.google.com/assets/colab-badge.svg\" alt=\"Open In Colab\"/></a>"
      ]
    },
    {
      "cell_type": "markdown",
      "metadata": {
        "id": "30VkbTXHCRy1"
      },
      "source": [
        "\n",
        "## Autograded Notebook (Canvas & CodeGrade)\n",
        "\n",
        "This notebook will be automatically graded. It is designed to test your answers and award points for the correct answers. Following the instructions for each Task carefully.\n",
        "Instructions\n",
        "\n",
        "- **Download** this notebook as you would any other ipynb file \n",
        "- **Upload** to Google Colab or work locally (if you have that set-up)\n",
        "- **Delete** `raise NotImplementedError()`\n",
        "\n",
        "- **Write** your code in the `# YOUR CODE HERE` space\n",
        "\n",
        "\n",
        "- **Execute** the Test cells that contain assert statements - these help you check your work (others contain hidden tests that will be checked when you submit through Canvas)\n",
        "\n",
        "- **Save** your notebook when you are finished\n",
        "- **Download** as a ipynb file (if working in Colab)\n",
        "- **Upload** your complete notebook to Canvas (there will be additional instructions in Slack and/or Canvas)\n",
        "\n"
      ]
    },
    {
      "cell_type": "markdown",
      "metadata": {
        "id": "n3lCy1kNCRy3"
      },
      "source": [
        "# Major Neural Network Architectures Challenge\n",
        "## *Data Science Unit 4 Sprint 3 Challenge*\n",
        "\n",
        "In this sprint challenge, you'll explore some of the cutting edge of Deep Learning. This week we studied several famous neural network architectures: \n",
        "recurrent neural networks (RNNs), long short-term memory (LSTMs), convolutional neural networks (CNNs), and Autoencoders. In this sprint challenge, you will revisit these models. Remember, we are testing your knowledge of these architectures not your ability to fit a model with high accuracy. \n",
        "\n",
        "__*Caution:*__  these approaches can be pretty heavy computationally. All problems were designed so that you should be able to achieve results within at most 5-10 minutes of runtime locally, on AWS SageMaker, on Colab or on a comparable environment. If something is running longer, double check your approach!\n",
        "\n",
        "__*GridSearch:*__ CodeGrade will likely break if it is asked to run a gridsearch for a deep learning model (CodeGrade instances run on a single processor). So while you may choose to run a gridsearch locally to find the optimum hyper-parameter values for your model, please delete (or comment out) the gridsearch code and simply instantiate a model with the optimum parameter values to get the performance that you want out of your model prior to submission. \n",
        "\n",
        "\n",
        "## Challenge Objectives\n",
        "*You should be able to:*\n",
        "* <a href=\"#p1\">Part 1</a>: Train a LSTM classification model\n",
        "* <a href=\"#p2\">Part 2</a>: Utilize a pre-trained CNN for object detection\n",
        "* <a href=\"#p3\">Part 3</a>: Describe a use case for an autoencoder\n",
        "* <a href=\"#p4\">Part 4</a>: Describe yourself as a Data Science and elucidate your vision of AI\n",
        "\n",
        "____\n",
        "\n",
        "# (CodeGrade) Before you submit your notebook you must first\n",
        "\n",
        "1) Restart your notebook's Kernel\n",
        "\n",
        "2) Run all cells sequentially, from top to bottom, so that cell numbers are sequential numbers (i.e. 1,2,3,4,5...)\n",
        "- Easiest way to do this is to click on the **Cell** tab at the top of your notebook and select **Run All** from the drop down menu. \n",
        "\n",
        "3) If you have gridsearch code, now is when you either delete it or comment out that code so CodeGrade doesn't run it and crash. \n",
        "\n",
        "4) Read the directions in **Part 2** of this notebook for specific instructions on how to prep that section for CodeGrade.\n",
        "\n",
        "____"
      ]
    },
    {
      "cell_type": "markdown",
      "metadata": {
        "id": "-5UwGRnJOmD4"
      },
      "source": [
        "<a id=\"p1\"></a>\n",
        "## Part 1 - LSTMs\n",
        "\n",
        "Use a LSTM to fit a multi-class classification model on Reuters news articles to distinguish topics of articles. The data is already encoded properly for use in a LSTM model. \n",
        "\n",
        "Your Tasks: \n",
        "- Use Keras to fit a predictive model, classifying news articles into topics. \n",
        "- Name your model as `model`\n",
        "- Use a `single hidden layer`\n",
        "- Use `sparse_categorical_crossentropy` as your loss function\n",
        "- Use `accuracy` as your metric\n",
        "- Report your overall score and accuracy\n",
        "- Due to resource concerns on CodeGrade, `set your model's epochs=1`\n",
        "\n",
        "For reference, the LSTM code we used in class will be useful. \n",
        "\n",
        "__*Note:*__  Focus on getting a running model, not on maxing accuracy with extreme data size or epoch numbers. Only revisit and push accuracy if you get everything else done! "
      ]
    },
    {
      "cell_type": "code",
      "execution_count": null,
      "metadata": {
        "id": "DS-9ksWjoJit",
        "colab": {
          "base_uri": "https://localhost:8080/"
        },
        "outputId": "ad67c7ee-7d06-4c5e-98cb-d2c79ebb366d"
      },
      "outputs": [
        {
          "output_type": "stream",
          "name": "stdout",
          "text": [
            "Downloading data from https://storage.googleapis.com/tensorflow/tf-keras-datasets/reuters.npz\n",
            "2113536/2110848 [==============================] - 0s 0us/step\n",
            "2121728/2110848 [==============================] - 0s 0us/step\n"
          ]
        }
      ],
      "source": [
        "# Import data (don't alter the code in this cell)\n",
        "from tensorflow.keras.datasets import reuters\n",
        "\n",
        "# Suppress some warnings from deprecated reuters.load_data\n",
        "import warnings\n",
        "warnings.filterwarnings('ignore')\n",
        "\n",
        "# Load data\n",
        "(X_train, y_train), (X_test, y_test) = reuters.load_data(num_words=None,\n",
        "                                                         skip_top=0,\n",
        "                                                         maxlen=None,\n",
        "                                                         test_split=0.2,\n",
        "                                                         seed=723812,\n",
        "                                                         start_char=1,\n",
        "                                                         oov_char=2,\n",
        "                                                         index_from=3)\n",
        "\n",
        "# Due to limited computational resources on CodeGrade, take the following subsample \n",
        "train_size = 1000\n",
        "X_train = X_train[:train_size]\n",
        "y_train = y_train[:train_size]"
      ]
    },
    {
      "cell_type": "code",
      "execution_count": null,
      "metadata": {
        "colab": {
          "base_uri": "https://localhost:8080/"
        },
        "id": "fLKqFh8DovaN",
        "outputId": "4e3ab77d-50c6-4a30-f7c8-b2636a10cea8"
      },
      "outputs": [
        {
          "output_type": "stream",
          "name": "stdout",
          "text": [
            "Downloading data from https://storage.googleapis.com/tensorflow/tf-keras-datasets/reuters_word_index.json\n",
            "557056/550378 [==============================] - 0s 0us/step\n",
            "565248/550378 [==============================] - 0s 0us/step\n",
            "Iran is encoded as 779 in the data\n",
            "London is encoded as 544 in the data\n",
            "Words are encoded as numbers in our dataset.\n"
          ]
        }
      ],
      "source": [
        "# Demo of encoding\n",
        "word_index = reuters.get_word_index(path=\"reuters_word_index.json\")\n",
        "\n",
        "print(f\"Iran is encoded as {word_index['iran']} in the data\")\n",
        "print(f\"London is encoded as {word_index['london']} in the data\")\n",
        "print(\"Words are encoded as numbers in our dataset.\")"
      ]
    },
    {
      "cell_type": "code",
      "execution_count": null,
      "metadata": {
        "id": "QjsIzaL2CRy6"
      },
      "outputs": [],
      "source": [
        "# Imports (don't alter this code)\n",
        "from tensorflow.keras.preprocessing import sequence\n",
        "from tensorflow.keras.models import Sequential\n",
        "from tensorflow.keras.layers import Dense, Embedding, LSTM\n",
        "\n",
        "# DO NOT CHANGE THESE VALUES \n",
        "# Keras docs say that the + 1 is needed: https://keras.io/api/layers/core_layers/embedding/\n",
        "MAX_FEATURES = len(word_index.values()) + 1\n",
        "\n",
        "# maxlen is the length of each sequence (i.e. document length)\n",
        "MAXLEN = 200"
      ]
    },
    {
      "cell_type": "code",
      "execution_count": null,
      "metadata": {
        "deletable": false,
        "nbgrader": {
          "cell_type": "code",
          "checksum": "36031ab4b52ab8412c65a71e101baaf5",
          "grade": false,
          "grade_id": "cell-471d7f5819bebff6",
          "locked": false,
          "schema_version": 3,
          "solution": true,
          "task": false
        },
        "id": "hWDmr119CRy6"
      },
      "outputs": [],
      "source": [
        "# Pre-process your data by creating sequences \n",
        "# Save your transformed data to the same variable name:\n",
        "# example: X_train = some_transformation(X_train)\n",
        "\n",
        "# YOUR CODE HERE\n",
        "X_train = sequence.pad_sequences(X_train, maxlen=MAXLEN, padding='pre',truncating='post')\n",
        "X_test = sequence.pad_sequences(X_test, maxlen=MAXLEN, padding='pre',truncating='post')"
      ]
    },
    {
      "cell_type": "code",
      "execution_count": null,
      "metadata": {
        "deletable": false,
        "editable": false,
        "nbgrader": {
          "cell_type": "code",
          "checksum": "cef4a5ae6ec56bee0d3121c7d8d37f3e",
          "grade": true,
          "grade_id": "cell-b46c98c26266363a",
          "locked": true,
          "points": 1,
          "schema_version": 3,
          "solution": false,
          "task": false
        },
        "id": "EUef8F5tCRy6"
      },
      "outputs": [],
      "source": [
        "# Visible tests\n",
        "assert X_train.shape[1] == MAXLEN, \"Your train input sequences are the wrong length. Did you use the sequence import?\"\n",
        "assert X_test.shape[1] == MAXLEN, \"Your test input sequences are the wrong length. Did you use the sequence import?\""
      ]
    },
    {
      "cell_type": "markdown",
      "metadata": {
        "id": "VmhKgpG-CRy7"
      },
      "source": [
        "### Create your model\n",
        "\n",
        "Make sure to follow these instructions (also listed above):\n",
        "- Name your model as `model`\n",
        "- Use a `single hidden layer`\n",
        "- Use `sparse_categorical_crossentropy` as your loss function\n",
        "- Use `accuracy` as your metric\n",
        "\n",
        "**Additional considerations**\n",
        "\n",
        "The number of nodes in your output layer should be equal to the number of **unique** values in the sequences you are training and testing on. For this text, that value is equal to 46.\n",
        "\n",
        "- Set the number of nodes in your output layer equal to 46"
      ]
    },
    {
      "cell_type": "code",
      "execution_count": null,
      "metadata": {
        "deletable": false,
        "nbgrader": {
          "cell_type": "code",
          "checksum": "cc18fbac87183e4e19e0342541d5684b",
          "grade": false,
          "grade_id": "cell-5e7ea9089f827793",
          "locked": false,
          "schema_version": 3,
          "solution": true,
          "task": false
        },
        "colab": {
          "base_uri": "https://localhost:8080/"
        },
        "id": "rYJEcKy9CRy7",
        "outputId": "3969c530-e79c-43b6-ba56-6eb750fd010a"
      },
      "outputs": [
        {
          "output_type": "stream",
          "name": "stdout",
          "text": [
            "Model: \"sequential\"\n",
            "_________________________________________________________________\n",
            " Layer (type)                Output Shape              Param #   \n",
            "=================================================================\n",
            " embedding (Embedding)       (None, None, 46)          1425080   \n",
            "                                                                 \n",
            " lstm (LSTM)                 (None, 46)                17112     \n",
            "                                                                 \n",
            " dense (Dense)               (None, 1)                 47        \n",
            "                                                                 \n",
            "=================================================================\n",
            "Total params: 1,442,239\n",
            "Trainable params: 1,442,239\n",
            "Non-trainable params: 0\n",
            "_________________________________________________________________\n"
          ]
        }
      ],
      "source": [
        "# Build and complie your model here\n",
        "\n",
        "# YOUR CODE HERE\n",
        "from tensorflow.keras.optimizers import Adam\n",
        "opt = Adam(learning_rate=1.e-3)\n",
        "model = Sequential()\n",
        "model.add(Embedding(input_dim=MAX_FEATURES, output_dim=46))\n",
        "model.add(LSTM(46, return_sequences=False))\n",
        "model.add(Dense(1, activation='sigmoid'))\n",
        "model.compile(loss='sparse_categorical_crossentropy',\n",
        "              optimizer=opt,\n",
        "              metrics=['accuracy'])\n",
        "model.summary()\n"
      ]
    },
    {
      "cell_type": "code",
      "execution_count": null,
      "metadata": {
        "deletable": false,
        "editable": false,
        "nbgrader": {
          "cell_type": "code",
          "checksum": "ff2e025e7744c0524ecebcb854ae632d",
          "grade": true,
          "grade_id": "cell-54f4676c642d2c94",
          "locked": true,
          "points": 1,
          "schema_version": 3,
          "solution": false,
          "task": false
        },
        "id": "WNRUbyVZCRy7"
      },
      "outputs": [],
      "source": [
        "# Visible Test\n",
        "assert model.get_config()[\"layers\"][1][\"class_name\"] == \"Embedding\", \"Layer 1 should be an Embedding layer.\""
      ]
    },
    {
      "cell_type": "code",
      "execution_count": null,
      "metadata": {
        "deletable": false,
        "editable": false,
        "nbgrader": {
          "cell_type": "code",
          "checksum": "cc9bb4e19f4d22eb6a243d76024fb637",
          "grade": true,
          "grade_id": "cell-974465c65fe51083",
          "locked": true,
          "points": 1,
          "schema_version": 3,
          "solution": false,
          "task": false
        },
        "id": "LiuWmODKCRy7"
      },
      "outputs": [],
      "source": [
        "# Hidden Test"
      ]
    },
    {
      "cell_type": "markdown",
      "metadata": {
        "id": "v2bMk0BsCRy8"
      },
      "source": [
        "### Fit your model\n",
        "\n",
        "Now, fit the model that you built and compiled in the previous cells. Remember to set your `epochs=1`! "
      ]
    },
    {
      "cell_type": "code",
      "execution_count": null,
      "metadata": {
        "colab": {
          "base_uri": "https://localhost:8080/"
        },
        "deletable": false,
        "id": "_QVSlFEAqWJM",
        "nbgrader": {
          "cell_type": "code",
          "checksum": "214ed02cdf6fe3f25483d81c2f4dd09c",
          "grade": false,
          "grade_id": "cell-10c20c87933d059c",
          "locked": false,
          "schema_version": 3,
          "solution": true,
          "task": false
        },
        "outputId": "8b40bf9f-4174-46fb-e755-4b7bf0442891"
      },
      "outputs": [
        {
          "output_type": "stream",
          "name": "stdout",
          "text": [
            "2/2 [==============================] - 9s 490ms/step - loss: nan - accuracy: 0.0240 - val_loss: nan - val_accuracy: 0.0053\n"
          ]
        }
      ],
      "source": [
        "# Fit your model here\n",
        "# REMEMBER to set epochs=1\n",
        "\n",
        "# YOUR CODE HERE\n",
        "results = model.fit(X_train, y_train,\n",
        "                    batch_size=512,\n",
        "                    epochs=1,\n",
        "                    validation_data=(X_test,y_test))"
      ]
    },
    {
      "cell_type": "code",
      "execution_count": null,
      "metadata": {
        "deletable": false,
        "editable": false,
        "nbgrader": {
          "cell_type": "code",
          "checksum": "ca6a93fe03cb86e1d3ba3d38fc848102",
          "grade": true,
          "grade_id": "cell-277a7dc0b08b9a29",
          "locked": true,
          "points": 1,
          "schema_version": 3,
          "solution": false,
          "task": false
        },
        "id": "NBl6MmX3CRy8"
      },
      "outputs": [],
      "source": [
        "# Visible Test \n",
        "n_epochs = len(model.history.history[\"loss\"])\n",
        "assert n_epochs == 1, \"Verify that you set epochs to 1.\""
      ]
    },
    {
      "cell_type": "markdown",
      "metadata": {
        "deletable": false,
        "editable": false,
        "nbgrader": {
          "cell_type": "markdown",
          "checksum": "5035264cce6916dab4735e61ab5a92a0",
          "grade": false,
          "grade_id": "cell-e46402041c52cd24",
          "locked": true,
          "points": 0,
          "schema_version": 3,
          "solution": false,
          "task": true
        },
        "nteract": {
          "transient": {
            "deleting": false
          }
        },
        "id": "yQUtrfG3CRy8"
      },
      "source": [
        "## Sequence Data Question\n",
        "#### *Describe the `pad_sequences` method used on the training dataset. What does it do? Why do you need it?*"
      ]
    },
    {
      "cell_type": "markdown",
      "metadata": {
        "deletable": false,
        "nbgrader": {
          "cell_type": "markdown",
          "checksum": "466921cbc36892fb12aa9a3f0c2424a3",
          "grade": true,
          "grade_id": "cell-92a7ebc76ad66f05",
          "locked": false,
          "points": 0,
          "schema_version": 3,
          "solution": true,
          "task": false
        },
        "id": "t21cwfszCRy8"
      },
      "source": [
        "Pad_sequences makes puts the length of all the articles equal to one another. It needs to be equal in order to be tested. So if it's too long it will be cut off to 200 words, and if it it's too short there will be 0's added to make it to the length of 200 words."
      ]
    },
    {
      "cell_type": "markdown",
      "metadata": {
        "deletable": false,
        "editable": false,
        "nbgrader": {
          "cell_type": "markdown",
          "checksum": "1162a5c137e05e13d9c1275bf89709c2",
          "grade": false,
          "grade_id": "cell-a7a697b125edb2b7",
          "locked": true,
          "points": 0,
          "schema_version": 3,
          "solution": false,
          "task": true
        },
        "nteract": {
          "transient": {
            "deleting": false
          }
        },
        "id": "OIYWe4JpCRy9"
      },
      "source": [
        "## RNNs versus LSTMs\n",
        "#### *What are the primary motivations behind using Long-ShortTerm Memory Cell unit over traditional Recurrent Neural Networks?*"
      ]
    },
    {
      "cell_type": "markdown",
      "metadata": {
        "deletable": false,
        "nbgrader": {
          "cell_type": "markdown",
          "checksum": "e88cf9a290290a182ca8381c5055b218",
          "grade": true,
          "grade_id": "cell-bfe45496d78d39bb",
          "locked": false,
          "points": 0,
          "schema_version": 3,
          "solution": true,
          "task": false
        },
        "id": "UBCpzZZ2CRy9"
      },
      "source": [
        "LSTM's can remember longer sequences than RNN's and do not suffer from vanishing gradients. Meaning they have the ability to carry information further and use gates to determine what gets passed on to other cells."
      ]
    },
    {
      "cell_type": "markdown",
      "metadata": {
        "deletable": false,
        "editable": false,
        "nbgrader": {
          "cell_type": "markdown",
          "checksum": "72cdfd02468a598b328fef9d0fb2c449",
          "grade": false,
          "grade_id": "cell-ca70eabc807f8f52",
          "locked": true,
          "points": 0,
          "schema_version": 3,
          "solution": false,
          "task": true
        },
        "nteract": {
          "transient": {
            "deleting": false
          }
        },
        "id": "OfCx017MCRy9"
      },
      "source": [
        "## RNN / LSTM Use Cases\n",
        "#### *Name and Describe 3 Use Cases of LSTMs or RNNs and why they are suited to that use case*"
      ]
    },
    {
      "cell_type": "markdown",
      "metadata": {
        "deletable": false,
        "nbgrader": {
          "cell_type": "markdown",
          "checksum": "91b3a655469df8a2d64e7c7c0c0aed02",
          "grade": true,
          "grade_id": "cell-eeaef2336d124b88",
          "locked": false,
          "points": 0,
          "schema_version": 3,
          "solution": true,
          "task": false
        },
        "id": "lfffE4mECRy9"
      },
      "source": [
        "YOUR ANSWER HERE"
      ]
    },
    {
      "cell_type": "markdown",
      "metadata": {
        "id": "yz0LCZd_O4IG"
      },
      "source": [
        "<a id=\"p2\"></a>\n",
        "## Part 2- CNNs\n",
        "\n",
        "### Find the Frog\n",
        "\n",
        "Time to play \"find the frog!\" Use Keras and [ResNet50v2](https://www.tensorflow.org/api_docs/python/tf/keras/applications/resnet_v2) (pre-trained) to detect which of the images with the `frog_images` subdirectory has a frog in it.\n",
        "\n",
        "<img align=\"left\" src=\"https://d3i6fh83elv35t.cloudfront.net/newshour/app/uploads/2017/03/GettyImages-654745934-1024x687.jpg\" width=400>"
      ]
    },
    {
      "cell_type": "markdown",
      "metadata": {
        "id": "UoO7Of3uCRy9"
      },
      "source": [
        "The skimage function below will help you read in all the frog images into memory at once. You should use the preprocessing functions that come with ResnetV2, and you should also resize the images using scikit-image.\n",
        "\n",
        "### Reading in the images\n",
        "\n",
        "The code in the following cell will download the images to your notebook (either in your local Jupyter notebook or in Google colab)."
      ]
    },
    {
      "cell_type": "code",
      "execution_count": null,
      "metadata": {
        "id": "f6GdaAGBCRy-"
      },
      "outputs": [],
      "source": [
        "# Prep to import images (don't alter the code in this cell)\n",
        "import urllib.request\n",
        "\n",
        "# Text file of image URLs\n",
        "text_file = \"https://raw.githubusercontent.com/LambdaSchool/data-science-canvas-images/main/unit_4/sprint_challenge_files/frog_image_url.txt\"\n",
        "data = urllib.request.urlopen(text_file)\n",
        "\n",
        "# Create list of image URLs\n",
        "url_list = [] \n",
        "for line in data:\n",
        "    url_list.append(line.decode('utf-8'))"
      ]
    },
    {
      "cell_type": "code",
      "execution_count": null,
      "metadata": {
        "id": "whIqEWR236Af"
      },
      "outputs": [],
      "source": [
        "# Import images (don't alter the code in this cell)\n",
        "\n",
        "from skimage.io import imread\n",
        "from skimage.transform import resize \n",
        "\n",
        "# instantiate list to hold images\n",
        "image_list = []\n",
        "\n",
        "### UNCOMMENT THE FOLLOWING CODE TO LOAD YOUR IMAGES\n",
        "\n",
        "#loop through URLs and load each image\n",
        "for url in url_list:\n",
        "    image_list.append(imread(url))\n",
        "\n",
        "## UNCOMMENT THE FOLLOWING CODE TO VIEW AN EXAMPLE IMAGE SIZE\n",
        "#What is an \"image\"?\n",
        "# print(type(image_list[0]), end=\"\\n\\n\")\n",
        "\n",
        "# print(\"Each of the Images is a Different Size\")\n",
        "# print(image_list[0].shape)\n",
        "# print(image_list[1].shape)"
      ]
    },
    {
      "cell_type": "markdown",
      "metadata": {
        "id": "si5YfNqS50QU"
      },
      "source": [
        "### Run ResNet50v2\n",
        "\n",
        "Your goal is to validly run ResNet50v2 on the input images - don't worry about tuning or improving the model. You can print out or view the predictions in any way you see fit. In order to receive credit, you need to have made predictions at some point in the following cells.\n",
        "\n",
        "*Hint* - ResNet 50v2 doesn't just return \"frog\". The three labels it has for frogs are: `bullfrog, tree frog, tailed frog`\n",
        "\n",
        "**Autograded tasks**\n",
        "\n",
        "* Instantiate your ResNet 50v2 and save to a variable named `resnet_model`\n",
        "\n",
        "**Other tasks**\n",
        "* Re-size your images\n",
        "* Use `resnet_model` to predict if each image contains a frog\n",
        "* Decode your predictions\n",
        "* Hint: the lesson on CNNs will have some helpful code\n",
        "\n",
        "**Stretch goals***\n",
        "* Check for other things such as fish\n",
        "* Print out the image with its predicted label\n",
        "* Wrap everything nicely in well documented functions\n",
        "\n",
        "## Important note!\n",
        "\n",
        "To increase the chances that your notebook will run in CodeGrade, when you **submit** your notebook:\n",
        "\n",
        "* comment out the code where you load the images\n",
        "* comment out the code where you make the predictions\n",
        "* comment out any plots or image displays you create\n",
        "\n",
        "**MAKE SURE YOUR NOTEBOOK RUNS COMPLETELY BEFORE YOU SUBMIT!**"
      ]
    },
    {
      "cell_type": "code",
      "execution_count": null,
      "metadata": {
        "id": "FaT07ddW3nHz"
      },
      "outputs": [],
      "source": [
        "# Imports\n",
        "import numpy as np\n",
        "import matplotlib.pyplot as plt\n",
        "\n",
        "from tensorflow.keras.applications.resnet_v2 import ResNet50V2 # <-- pre-trained model \n",
        "from tensorflow.keras.preprocessing import image\n",
        "from tensorflow.keras.applications.resnet_v2 import preprocess_input, decode_predictions"
      ]
    },
    {
      "cell_type": "code",
      "source": [
        "# image_list = [imread(url) for url in url_list]\n",
        "image_list = [resize(image, (224, 224)) for image in image_list]"
      ],
      "metadata": {
        "id": "uyAYMgHDx0Mw"
      },
      "execution_count": null,
      "outputs": []
    },
    {
      "cell_type": "code",
      "source": [
        "x = [np.expand_dims(image_list[1], axis=0)]"
      ],
      "metadata": {
        "id": "vdoB-gKdy4L2"
      },
      "execution_count": null,
      "outputs": []
    },
    {
      "cell_type": "code",
      "execution_count": null,
      "metadata": {
        "colab": {
          "base_uri": "https://localhost:8080/"
        },
        "deletable": false,
        "nbgrader": {
          "cell_type": "code",
          "checksum": "00c7d152b14a85442baaad9b9fcbbe15",
          "grade": false,
          "grade_id": "cell-2715a95f2bcdf3f8",
          "locked": false,
          "schema_version": 3,
          "solution": true,
          "task": false
        },
        "id": "RhfgH7YtCRy-",
        "outputId": "b21c8f6b-8ac4-4936-c8d0-f6d4c50049d0"
      },
      "outputs": [
        {
          "output_type": "stream",
          "name": "stdout",
          "text": [
            "Downloading data from https://storage.googleapis.com/tensorflow/keras-applications/resnet/resnet50v2_weights_tf_dim_ordering_tf_kernels.h5\n",
            "102875136/102869336 [==============================] - 4s 0us/step\n",
            "102883328/102869336 [==============================] - 4s 0us/step\n",
            "Downloading data from https://storage.googleapis.com/download.tensorflow.org/data/imagenet_class_index.json\n",
            "40960/35363 [==================================] - 0s 0us/step\n",
            "49152/35363 [=========================================] - 0s 0us/step\n"
          ]
        },
        {
          "output_type": "execute_result",
          "data": {
            "text/plain": [
              "[('n04522168', 'vase', 0.519094),\n",
              " ('n02206856', 'bee', 0.14968911),\n",
              " ('n03991062', 'pot', 0.12960456),\n",
              " ('n01833805', 'hummingbird', 0.055839326),\n",
              " ('n03944341', 'pinwheel', 0.016844891)]"
            ]
          },
          "metadata": {},
          "execution_count": 16
        }
      ],
      "source": [
        "from IPython.core.display import Image\n",
        "from skimage.io.collection import ImageCollection\n",
        "# Code from the CNN lecture might come in handy here! \n",
        "\n",
        "# YOUR CODE HERE\n",
        "\n",
        "resnet_model = ResNet50V2(weights='imagenet')\n",
        "features = resnet_model.predict(x)\n",
        "results = decode_predictions(features, top=5)[0]\n",
        "results\n",
        "\n",
        "def img_contains_frog(image_list):\n",
        "  resnet_model = ResNet50V2(weights='imagenet')\n",
        "  features = resnet_model.predict(x)\n",
        "  results = decode_predictions(features, top=5)[0]\n",
        "  return results\n",
        "\n",
        "img_contains_frog(image_list)"
      ]
    },
    {
      "cell_type": "code",
      "source": [
        "img_contains_frog(image_list[11])"
      ],
      "metadata": {
        "colab": {
          "base_uri": "https://localhost:8080/"
        },
        "id": "vlXnzwbN_71o",
        "outputId": "205628ab-e943-4a33-83ec-131edd5bede4"
      },
      "execution_count": null,
      "outputs": [
        {
          "output_type": "execute_result",
          "data": {
            "text/plain": [
              "[('n04522168', 'vase', 0.519094),\n",
              " ('n02206856', 'bee', 0.14968911),\n",
              " ('n03991062', 'pot', 0.12960456),\n",
              " ('n01833805', 'hummingbird', 0.055839326),\n",
              " ('n03944341', 'pinwheel', 0.016844891)]"
            ]
          },
          "metadata": {},
          "execution_count": 17
        }
      ]
    },
    {
      "cell_type": "code",
      "execution_count": null,
      "metadata": {
        "deletable": false,
        "editable": false,
        "nbgrader": {
          "cell_type": "code",
          "checksum": "dc052ce43e9c6139f9049a72613c53cb",
          "grade": true,
          "grade_id": "cell-6e0982cb9f7775ef",
          "locked": true,
          "points": 1,
          "schema_version": 3,
          "solution": false,
          "task": false
        },
        "id": "7uqY_--ECRy_"
      },
      "outputs": [],
      "source": [
        "# Visible test\n",
        "assert resnet_model.get_config()[\"name\"] == \"resnet50v2\", \"Did you instantiate the resnet model?\""
      ]
    },
    {
      "cell_type": "code",
      "source": [
        "img_contains_frog(image_list[0])"
      ],
      "metadata": {
        "colab": {
          "base_uri": "https://localhost:8080/"
        },
        "id": "YWSZnusz-epu",
        "outputId": "9f045eb3-d189-496d-ea49-b5e6d5c1d98b"
      },
      "execution_count": null,
      "outputs": [
        {
          "output_type": "execute_result",
          "data": {
            "text/plain": [
              "[('n01641577', 'bullfrog', 0.8563909),\n",
              " ('n04090263', 'rifle', 0.044477027),\n",
              " ('n02655020', 'puffer', 0.027933713),\n",
              " ('n01644900', 'tailed_frog', 0.014973558),\n",
              " ('n02841315', 'binoculars', 0.007980255)]"
            ]
          },
          "metadata": {},
          "execution_count": 27
        }
      ]
    },
    {
      "cell_type": "markdown",
      "metadata": {
        "deletable": false,
        "editable": false,
        "id": "XEuhvSu7O5Rf",
        "nbgrader": {
          "cell_type": "markdown",
          "checksum": "07da5c698aa6b4bfc985abf74be530d0",
          "grade": false,
          "grade_id": "cell-98f795ea1478ba74",
          "locked": true,
          "points": 0,
          "schema_version": 3,
          "solution": false,
          "task": true
        }
      },
      "source": [
        "<a id=\"p3\"></a>\n",
        "## Part 3 - Autoencoders\n",
        "\n",
        "**Describe a use case for an autoencoder given that an autoencoder tries to predict its own input.**"
      ]
    },
    {
      "cell_type": "markdown",
      "metadata": {
        "deletable": false,
        "nbgrader": {
          "cell_type": "markdown",
          "checksum": "b9def07acfd8d9a0bb2fb9b3a9d20170",
          "grade": true,
          "grade_id": "cell-1ec34a8c8251db51",
          "locked": false,
          "points": 0,
          "schema_version": 3,
          "solution": true,
          "task": false
        },
        "id": "DMkTpOD4CRy_"
      },
      "source": [
        "YOUR ANSWER HERE"
      ]
    },
    {
      "cell_type": "markdown",
      "metadata": {
        "id": "626zYgjkO7Vq"
      },
      "source": [
        "<a id=\"p4\"></a>\n",
        "## Part 4 - More..."
      ]
    },
    {
      "cell_type": "markdown",
      "metadata": {
        "deletable": false,
        "editable": false,
        "id": "__lDWfcUO8oo",
        "nbgrader": {
          "cell_type": "markdown",
          "checksum": "061b43713725ca6955ee708b4495d0df",
          "grade": false,
          "grade_id": "cell-75a20bfb51f81e3b",
          "locked": true,
          "points": 0,
          "schema_version": 3,
          "solution": false,
          "task": true
        }
      },
      "source": [
        "**Answer the following questions, with a target audience of a fellow Data Scientist:**\n",
        "\n",
        "- What do you consider your strongest area as a Data Scientist?\n",
        "- What area of Data Science would you most like to learn more about, and why?\n",
        "- Where do you think Data Science will be in 5 years?\n",
        "\n",
        "A few sentences per answer is fine - only elaborate if time allows."
      ]
    },
    {
      "cell_type": "markdown",
      "metadata": {
        "deletable": false,
        "nbgrader": {
          "cell_type": "markdown",
          "checksum": "7e4b53bf4d823ee49c9fcb0e91c0dae3",
          "grade": true,
          "grade_id": "cell-7133ec302afe51d8",
          "locked": false,
          "points": 0,
          "schema_version": 3,
          "solution": true,
          "task": false
        },
        "id": "1RIHiFqtCRzA"
      },
      "source": [
        "YOUR ANSWER HERE"
      ]
    },
    {
      "cell_type": "markdown",
      "metadata": {
        "id": "_Hoqe3mM_Mtc"
      },
      "source": [
        "## Congratulations! \n",
        "\n",
        "Thank you for your hard work, and [congratulations](https://giphy.com/embed/26xivLqkv86uJzqWk)!!! You've learned a lot, and you should proudly call yourself a Data Scientist.\n"
      ]
    }
  ],
  "metadata": {
    "accelerator": "GPU",
    "colab": {
      "collapsed_sections": [],
      "name": "Unit4_Sprint3_Challenge_CDA.ipynb",
      "provenance": [],
      "include_colab_link": true
    },
    "kernel_info": {
      "name": "u4-s3-dnn"
    },
    "kernelspec": {
      "display_name": "Python 3",
      "language": "python",
      "name": "python3"
    },
    "language_info": {
      "codemirror_mode": {
        "name": "ipython",
        "version": 3
      },
      "file_extension": ".py",
      "mimetype": "text/x-python",
      "name": "python",
      "nbconvert_exporter": "python",
      "pygments_lexer": "ipython3",
      "version": "3.8.5"
    },
    "nteract": {
      "version": "0.22.4"
    }
  },
  "nbformat": 4,
  "nbformat_minor": 0
}